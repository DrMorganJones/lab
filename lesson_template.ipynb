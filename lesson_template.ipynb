{
 "cells": [
  {
   "cell_type": "markdown",
   "metadata": {},
   "source": [
    "# Lesson 1: Introduction to Python\n",
    "\n",
    "## Learning Objectives\n",
    "By the end of this lesson, you will:\n",
    "- Understand basic Python syntax\n",
    "- Be able to work with variables and data types\n",
    "- Write simple Python programs\n",
    "\n",
    "---\n",
    "\n",
    "## 1. Introduction to Python\n",
    "\n",
    "Python is a high-level programming language that is easy to learn and widely used in fields such as data science, web development, and automation. In this lesson, we will start with the basics.\n",
    "\n",
    "Let's begin by printing a simple message to the screen."
   ]
  },
  {
   "cell_type": "code",
   "execution_count": 1,
   "metadata": {},
   "outputs": [
    {
     "name": "stdout",
     "output_type": "stream",
     "text": [
      "Hello, Python!\n"
     ]
    }
   ],
   "source": [
    "# This will print a message to the screen\n",
    "print(\"Hello, Python!\")"
   ]
  },
  {
   "cell_type": "markdown",
   "metadata": {},
   "source": [
    "Try running the code above and see what happens.\n",
    "\n",
    "---\n",
    "\n",
    "## 2. Variables and Data Types\n",
    "\n",
    "In Python, we can store values in variables. Let's look at different types of variables and their values."
   ]
  },
  {
   "cell_type": "code",
   "execution_count": 2,
   "metadata": {},
   "outputs": [
    {
     "name": "stdout",
     "output_type": "stream",
     "text": [
      "Integer: 10\n",
      "Float: 3.14\n",
      "String: John Doe\n"
     ]
    }
   ],
   "source": [
    "# Declare variables\n",
    "x = 10  # Integer\n",
    "pi = 3.14  # Float\n",
    "name = \"John Doe\"  # String\n",
    "\n",
    "# Print the variables\n",
    "print(\"Integer:\", x)\n",
    "print(\"Float:\", pi)\n",
    "print(\"String:\", name)"
   ]
  },
  {
   "cell_type": "markdown",
   "metadata": {},
   "source": [
    "### Exercise:\n",
    "Change the value of the variables `x`, `pi`, and `name` and run the code again to see how the output changes.\n",
    "\n",
    "---\n",
    "\n",
    "## 3. User Input\n",
    "\n",
    "You can also get input from the user using the `input()` function."
   ]
  },
  {
   "cell_type": "code",
   "execution_count": 3,
   "metadata": {},
   "outputs": [
    {
     "name": "stdout",
     "output_type": "stream",
     "text": [
      "What is your name? John Doe\n",
      "Hello, John Doe! Welcome to Python.\n"
     ]
    }
   ],
   "source": [
    "# Ask for user input\n",
    "name = input(\"What is your name? \")\n",
    "print(f\"Hello, {name}! Welcome to Python.\")"
   ]
  },
  {
   "cell_type": "markdown",
   "metadata": {},
   "source": [
    "### Exercise:\n",
    "Try typing your name when prompted. Modify the code to ask for the user's age and print a personalized message.\n",
    "\n",
    "---\n",
    "\n",
    "## 4. Basic Operators\n",
    "\n",
    "Python allows you to perform arithmetic operations like addition, subtraction, multiplication, and division. Let's do a simple math operation."
   ]
  },
  {
   "cell_type": "code",
   "execution_count": 4,
   "metadata": {},
   "outputs": [
    {
     "name": "stdout",
     "output_type": "stream",
     "text": [
      "The result of 5 + 3 is 8\n"
     ]
    }
   ],
   "source": [
    "# Basic arithmetic operations\n",
    "a = 5\n",
    "b = 3\n",
    "\n",
    "# Add the numbers\n",
    "result = a + b\n",
    "print(f\"The result of {a} + {b} is {result}\")"
   ]
  },
  {
   "cell_type": "markdown",
   "metadata": {},
   "source": [
    "### Mini Quiz\n",
    "Let's test your understanding of basic arithmetic. What is the result of 5 + 3?"
   ]
},
{
   "cell_type": "code",
   "execution_count": 5,
   "metadata": {},
   "outputs": [],
   "source": [
    "# Mini Quiz: What is the result of 5 + 3?\n",
    "answer = input(\"What is the result of 5 + 3? \")\n",
    "\n",
    "if answer == \"8\":\n",
    "    print(\"Correct! 🎉\")\n",
    "else:\n",
    "    print(\"Oops! Try again.\")"
   ]
}

  {
   "cell_type": "markdown",
   "metadata": {},
   "source": [
    "---\n",
    "\n",
    "## 6. Summary\n",
    "\n",
    "Congratulations! You have learned:\n",
    "- How to print text in Python\n",
    "- How to use variables and different data types\n",
    "- How to ask for user input\n",
    "- How to perform basic arithmetic operations\n",
    "\n",
    "Next, we will dive deeper into more advanced Python concepts. Keep practicing these basics to strengthen your skills!\n",
    "\n",
    "---\n",
    "\n",
    "## 7. Further Reading\n",
    "\n",
    "- [Official Python Documentation](https://docs.python.org/3/)\n",
    "- [Python for Beginners](https://www.python.org/about/gettingstarted/)"
   ]
  }
 ],
 "metadata": {
  "kernelspec": {
   "display_name": "Python 3",
   "language": "python",
   "name": "python3"
  },
  "language_info": {
   "name": "python",
   "version": "3.x"
  }
 },
 "nbformat": 4,
 "nbformat_minor": 4
}
